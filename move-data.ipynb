{
 "cells": [
  {
   "cell_type": "code",
   "execution_count": 23,
   "metadata": {},
   "outputs": [],
   "source": [
    "import shutil\n",
    "import os\n",
    "\n",
    "# Move images from archive to train/valid/test directory\n",
    "# Training set\n",
    "source_dir = './archive/train'\n",
    "target_dir = './dataset/train/bird'\n",
    "    \n",
    "file_names = os.listdir(source_dir)\n",
    "name=1\n",
    "for file_name in file_names:\n",
    "    for image in os.listdir(os.path.join(source_dir,file_name)):\n",
    "        new_filename = 'a'+str(name)+'.jpg'\n",
    "        os.rename(os.path.join(source_dir, file_name,image), os.path.join(source_dir, file_name, new_filename))\n",
    "        shutil.move(os.path.join(source_dir, file_name,new_filename), target_dir)\n",
    "        name+=1\n",
    "\n",
    "# Validation set\n",
    "source_dir = './archive/valid'\n",
    "target_dir = './dataset/valid/bird'\n",
    "    \n",
    "file_names = os.listdir(source_dir)\n",
    "name=1\n",
    "for file_name in file_names:\n",
    "    for image in os.listdir(os.path.join(source_dir,file_name)):\n",
    "        new_filename = 'a'+str(name)+'.jpg'\n",
    "        os.rename(os.path.join(source_dir, file_name,image), os.path.join(source_dir, file_name, new_filename))\n",
    "        shutil.move(os.path.join(source_dir, file_name,new_filename), target_dir)\n",
    "        name+=1\n",
    "\n",
    "# Test set\n",
    "source_dir = './archive/test'\n",
    "target_dir = './dataset/test/bird'\n",
    "    \n",
    "file_names = os.listdir(source_dir)\n",
    "name=1\n",
    "for file_name in file_names:\n",
    "    for image in os.listdir(os.path.join(source_dir,file_name)):\n",
    "        new_filename = 'a'+str(name)+'.jpg'\n",
    "        os.rename(os.path.join(source_dir, file_name,image), os.path.join(source_dir, file_name, new_filename))\n",
    "        shutil.move(os.path.join(source_dir, file_name,new_filename), target_dir)\n",
    "        name+=1"
   ]
  },
  {
   "cell_type": "code",
   "execution_count": 24,
   "metadata": {},
   "outputs": [
    {
     "name": "stdout",
     "output_type": "stream",
     "text": [
      "Total number of training data: 70508\n",
      "Total number of validation data: 2250\n",
      "Total number of test data: 2250\n"
     ]
    }
   ],
   "source": [
    "print(f\"Total number of training data: {len(os.listdir('./dataset/train/bird'))}\")\n",
    "print(f\"Total number of validation data: {len(os.listdir('./dataset/valid/bird'))}\")\n",
    "print(f\"Total number of test data: {len(os.listdir('./dataset/test/bird'))}\")"
   ]
  },
  {
   "cell_type": "code",
   "execution_count": 8,
   "metadata": {},
   "outputs": [],
   "source": [
    "# Limit the image to 10k (train-7k, valid-2k, test-1k)\n",
    "import random\n",
    "\n",
    "train_dir = './dataset/train/bird'\n",
    "valid_dir = './dataset/valid/bird'\n",
    "test_dir = './dataset/test/bird'\n",
    "\n",
    "# Training set\n",
    "for file in random.sample(os.listdir(train_dir), 63508):\n",
    "    os.remove(os.path.join(train_dir,file))\n",
    "\n",
    "# Validation set\n",
    "for file in random.sample(os.listdir(valid_dir), 250):\n",
    "    os.remove(os.path.join(valid_dir,file))\n",
    "\n",
    "# Test set\n",
    "for file in random.sample(os.listdir(test_dir), 1250):\n",
    "    os.remove(os.path.join(test_dir,file))"
   ]
  },
  {
   "cell_type": "code",
   "execution_count": 11,
   "metadata": {},
   "outputs": [
    {
     "data": {
      "text/plain": [
       "1000"
      ]
     },
     "execution_count": 11,
     "metadata": {},
     "output_type": "execute_result"
    }
   ],
   "source": [
    "len(os.listdir(test_dir))"
   ]
  },
  {
   "cell_type": "code",
   "execution_count": null,
   "metadata": {},
   "outputs": [],
   "source": []
  }
 ],
 "metadata": {
  "kernelspec": {
   "display_name": "Python 3.8.9 64-bit",
   "language": "python",
   "name": "python3"
  },
  "language_info": {
   "codemirror_mode": {
    "name": "ipython",
    "version": 3
   },
   "file_extension": ".py",
   "mimetype": "text/x-python",
   "name": "python",
   "nbconvert_exporter": "python",
   "pygments_lexer": "ipython3",
   "version": "3.8.9"
  },
  "orig_nbformat": 4,
  "vscode": {
   "interpreter": {
    "hash": "31f2aee4e71d21fbe5cf8b01ff0e069b9275f58929596ceb00d14d90e3e16cd6"
   }
  }
 },
 "nbformat": 4,
 "nbformat_minor": 2
}
